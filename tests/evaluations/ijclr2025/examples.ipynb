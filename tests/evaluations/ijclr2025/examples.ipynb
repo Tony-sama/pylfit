{
 "cells": [
  {
   "cell_type": "markdown",
   "id": "c41c569b",
   "metadata": {
    "papermill": {
     "duration": 0.060839,
     "end_time": "2022-05-23T14:16:44.896880",
     "exception": false,
     "start_time": "2022-05-23T14:16:44.836041",
     "status": "completed"
    },
    "tags": []
   },
   "source": [
    "# Settings"
   ]
  },
  {
   "cell_type": "code",
   "execution_count": 1,
   "id": "2b6461f1",
   "metadata": {},
   "outputs": [],
   "source": [
    "DEBUG = False"
   ]
  },
  {
   "cell_type": "code",
   "execution_count": 2,
   "id": "52f936cd",
   "metadata": {},
   "outputs": [],
   "source": [
    "from pylfit.objects import Rule\n",
    "from pylfit.models import DMVLP\n",
    "from pylfit.datasets import DiscreteStateTransitionsDataset\n",
    "from pylfit.postprocessing import compute_counterfactuals"
   ]
  },
  {
   "cell_type": "code",
   "execution_count": 3,
   "id": "674d9152",
   "metadata": {},
   "outputs": [
    {
     "name": "stdout",
     "output_type": "stream",
     "text": [
      "DMVLP summary:\n",
      " Algorithm: gula\n",
      " Features: \n",
      "  a: ['0', '1']\n",
      "  b: ['0', '1']\n",
      "  c: ['0', '1', '2']\n",
      " Targets: \n",
      "  y: ['0', '1', '2']\n",
      " Rules:\n",
      "  y(0) :- a(0).\n",
      "  y(0) :- b(0).\n",
      "  y(0) :- c(0).\n",
      "  y(1) :- b(1).\n",
      "  y(1) :- a(0), c(1).\n",
      "  y(1) :- c(2).\n",
      "  y(2) :- a(1), b(1), c(2).\n"
     ]
    },
    {
     "data": {
      "text/plain": [
       "{'0': [{b(0), c(0)}, {a(1), b(0)}], '2': []}"
      ]
     },
     "execution_count": 3,
     "metadata": {},
     "output_type": "execute_result"
    }
   ],
   "source": [
    "# Handmade program\n",
    "features = [(\"a\",[\"0\",\"1\"]), (\"b\",[\"0\",\"1\"]), (\"c\",[\"0\",\"1\",\"2\"])] \n",
    "targets = [(\"y\",[\"0\",\"1\",\"2\"])]\n",
    "\n",
    "rules = \"\"\"\n",
    "y(0) :- a(0).\n",
    "y(0) :- b(0).\n",
    "y(0) :- c(0).\n",
    "\n",
    "y(1) :- b(1).\n",
    "y(1) :- a(0), c(1).\n",
    "y(1) :- c(2).\n",
    "\n",
    "y(2) :- a(1), b(1), c(2).\n",
    "\"\"\"\n",
    "\n",
    "model = DMVLP(features, targets)\n",
    "model.compile()\n",
    "\n",
    "model.rules = [Rule.from_string(s.strip(), features, targets) for s in rules.strip().split(\"\\n\") if len(s) > 0 ]\n",
    "model.summary()\n",
    "\n",
    "# Check it is complete\n",
    "if DEBUG:\n",
    "    data = []\n",
    "    for s1 in model.feature_states():\n",
    "        transitions = model.predict([s1])\n",
    "        for s2 in transitions[tuple(s1)]:\n",
    "            data.append((s1, s2))\n",
    "\n",
    "    print(data)\n",
    "\n",
    "    dataset = DiscreteStateTransitionsDataset(data, features, targets)\n",
    "    dataset.summary()\n",
    "\n",
    "    model = DMVLP(features, targets)\n",
    "    model.compile()\n",
    "    model.fit(dataset)\n",
    "    model.summary()\n",
    "\n",
    "# Counterfactuals\n",
    "\n",
    "state = [\"0\",\"1\",\"1\"]\n",
    "\n",
    "compute_counterfactuals(model, state, \"y\", [\"1\"], [\"0\",\"2\"], verbose=0)"
   ]
  }
 ],
 "metadata": {
  "kernelspec": {
   "display_name": "pylfit-dev",
   "language": "python",
   "name": "python3"
  },
  "language_info": {
   "codemirror_mode": {
    "name": "ipython",
    "version": 3
   },
   "file_extension": ".py",
   "mimetype": "text/x-python",
   "name": "python",
   "nbconvert_exporter": "python",
   "pygments_lexer": "ipython3",
   "version": "3.12.0"
  },
  "papermill": {
   "default_parameters": {},
   "duration": 42.992012,
   "end_time": "2022-05-23T14:17:16.537439",
   "environment_variables": {},
   "exception": null,
   "input_path": "__notebook__.ipynb",
   "output_path": "__notebook__.ipynb",
   "parameters": {},
   "start_time": "2022-05-23T14:16:33.545427",
   "version": "2.3.4"
  }
 },
 "nbformat": 4,
 "nbformat_minor": 5
}

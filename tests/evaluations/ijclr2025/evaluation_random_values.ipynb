{
 "cells": [
  {
   "cell_type": "markdown",
   "id": "c41c569b",
   "metadata": {
    "papermill": {
     "duration": 0.060839,
     "end_time": "2022-05-23T14:16:44.896880",
     "exception": false,
     "start_time": "2022-05-23T14:16:44.836041",
     "status": "completed"
    },
    "tags": []
   },
   "source": [
    "# Settings"
   ]
  },
  {
   "cell_type": "code",
   "execution_count": null,
   "id": "4930ad21",
   "metadata": {
    "execution": {
     "iopub.execute_input": "2022-05-23T14:16:45.020412Z",
     "iopub.status.busy": "2022-05-23T14:16:45.019614Z",
     "iopub.status.idle": "2022-05-23T14:16:45.032336Z",
     "shell.execute_reply": "2022-05-23T14:16:45.031676Z"
    },
    "papermill": {
     "duration": 0.075956,
     "end_time": "2022-05-23T14:16:45.034615",
     "exception": false,
     "start_time": "2022-05-23T14:16:44.958659",
     "status": "completed"
    },
    "tags": []
   },
   "outputs": [],
   "source": [
    "NB_FEATURES = 10\n",
    "MAX_VALUES = 6\n",
    "NB_TESTS_PER_SETTINGS = 10\n",
    "NB_RULES = 20\n",
    "RULES_CONDITIONS = 1.0\n",
    "BRUTEFORCE = False\n",
    "\n",
    "DEBUG = False\n",
    "\n",
    "MAX_LOOP = 1000000\n",
    "\n",
    "SEED = 42\n",
    "\n",
    "if DEBUG:\n",
    "    NB_FEATURES = 5\n",
    "    NB_VALUES = 3 \n",
    "    NB_TESTS_PER_SETTINGS = 10\n",
    "    MAX_RULES = 100\n",
    "    STEP_SIZE = 10"
   ]
  },
  {
   "cell_type": "code",
   "execution_count": null,
   "id": "52f936cd",
   "metadata": {},
   "outputs": [],
   "source": [
    "from pylfit.postprocessing import compute_counterfactuals, bruteforce_counterfactuals\n",
    "from pylfit.objects import LegacyAtom, Rule\n",
    "from pylfit.models import DMVLP\n",
    "from pylfit.datasets import DiscreteStateTransitionsDataset\n",
    "\n",
    "import random\n",
    "import time\n",
    "import pandas\n",
    "import seaborn as sns\n",
    "from matplotlib import colors as mcolors\n",
    "\n",
    "import matplotlib.pyplot as plt\n",
    "\n",
    "from itertools import chain, combinations\n",
    "\n",
    "random.seed(SEED)"
   ]
  },
  {
   "cell_type": "code",
   "execution_count": null,
   "id": "35f77d3a",
   "metadata": {},
   "outputs": [],
   "source": [
    "def random_rule(head, features, max_body_size):\n",
    "    body = {}\n",
    "    nb_conditions = random.randint(1,max_body_size)\n",
    "    while len(body) < nb_conditions:\n",
    "        var_id = random.randint(0, len(features)-1)\n",
    "        val = random.choice(features[var_id][1])\n",
    "        atom = LegacyAtom(variable=features[var_id][0], domain=set(features[var_id][1]), value=val, state_position=var_id)\n",
    "        valid = True\n",
    "        for var in body:\n",
    "            if body[var].state_position == atom.state_position:\n",
    "                valid = False\n",
    "                break\n",
    "        if valid:\n",
    "            body[atom.variable] = atom\n",
    "        \n",
    "    r = Rule(head,body)\n",
    "\n",
    "    return r\n",
    "\n",
    "def random_rule_that_matches(feature_state, head, features, max_body_size):\n",
    "    body = {}\n",
    "    nb_conditions = random.randint(1,max_body_size)\n",
    "    while len(body) < nb_conditions:\n",
    "        var_id = random.randint(0, len(feature_state)-1)\n",
    "        atom = LegacyAtom(variable=features[var_id][0], domain=set(features[var_id][1]), value=feature_state[var_id], state_position=var_id)\n",
    "        valid = True\n",
    "        for var in body:\n",
    "            if body[var].state_position == atom.state_position:\n",
    "                valid = False\n",
    "                break\n",
    "        if valid:\n",
    "            body[atom.variable] = atom\n",
    "        \n",
    "    r = Rule(head,body)\n",
    "\n",
    "    return r\n",
    "\n",
    "\n",
    "def powerset(iterable):\n",
    "    \"powerset([1,2,3]) --> () (1,) (2,) (3,) (1,2) (1,3) (2,3) (1,2,3)\"\n",
    "    s = list(iterable)\n",
    "    return chain.from_iterable(combinations(s, r) for r in range(len(s)+1))"
   ]
  },
  {
   "cell_type": "markdown",
   "id": "52ca21c2",
   "metadata": {},
   "source": [
    "# Compute counterfactual with proposal"
   ]
  },
  {
   "cell_type": "code",
   "execution_count": null,
   "id": "a4c30436",
   "metadata": {},
   "outputs": [],
   "source": [
    "data = []\n",
    "nb_rules = NB_RULES\n",
    "for nb_values in range(2, MAX_VALUES+1):\n",
    "\n",
    "    # Generate a DMVLP of X rules\n",
    "    features = [(\"x\"+str(i), [\"val_\"+str(val) for val in range(0,nb_values)]) for i in range(NB_FEATURES)]\n",
    "    targets = [(\"y\", [\"val_\"+str(val) for val in range(0,nb_values)])]\n",
    "    rules = []\n",
    "\n",
    "    model = DMVLP(features=features, targets=targets)\n",
    "    model.compile()\n",
    "    model.summary()\n",
    "\n",
    "    #features_states = model.feature_states()\n",
    "    #print(\"Features states:\", len(features_states))\n",
    "\n",
    "    target = targets[0][0]\n",
    "    target_domain = targets[0][1]\n",
    "    print(\"target:\", target, target_domain)\n",
    "\n",
    "    for test in range(NB_TESTS_PER_SETTINGS):\n",
    "        print(\"\\rTest:\", str(test+1)+\"/\"+str(NB_TESTS_PER_SETTINGS),end='')\n",
    "        \n",
    "        # Generate the counterfactual problem first\n",
    "        s = [random.choice(vals) for var,vals in features]\n",
    "        #s = random.choice(features_states)\n",
    "        val_out = random.choice(target_domain)\n",
    "        val_in = val_out\n",
    "        while(val_in == val_out):\n",
    "            val_in = random.choice(target_domain)\n",
    "\n",
    "        #print(\"s:\", s)\n",
    "        #print(\"Val_out:\", val_out)\n",
    "        #print(\"Val_in:\", val_in)\n",
    "        \n",
    "        # Create rules for each target value so that the problem is valid\n",
    "        rules = []\n",
    "        for val in target_domain:\n",
    "            val_rules = []\n",
    "            head = LegacyAtom(variable=target, domain=set(target_domain), value=val, state_position=0)\n",
    "\n",
    "            loops = 0\n",
    "            while(len(val_rules) < nb_rules and loops < MAX_LOOP):\n",
    "                loops += 1\n",
    "                \n",
    "                if val == val_out: # s must be matched\n",
    "                    rule = random_rule_that_matches(s, head, features, int(len(features)*RULES_CONDITIONS))\n",
    "                else:\n",
    "                    rule = random_rule(head, features, int(len(features)*RULES_CONDITIONS))\n",
    "\n",
    "                #print(rule)\n",
    "\n",
    "                if val == val_in: # s should not match\n",
    "                    if rule.matches(s):\n",
    "                        #print(\"OUT: matches\",s)\n",
    "                        continue\n",
    "\n",
    "                # Rule must be minimal\n",
    "                valid = True\n",
    "                if rule in val_rules:\n",
    "                    #print(\"OUT: already in rules\")\n",
    "                    valid = False\n",
    "\n",
    "                #for r in val_rules:\n",
    "                #    if r.subsumes(rule) or rule.subsumes(r):\n",
    "                #        valid = False\n",
    "                #        break\n",
    "\n",
    "                if not valid:\n",
    "                    continue\n",
    "                \n",
    "                val_rules.append(rule)\n",
    "\n",
    "            if loops >= MAX_LOOP:\n",
    "                print(\"ERROR, MAX_LOOP reached, cannot find rule valid\")\n",
    "                print(\"Rules found:\", len(val_rules))\n",
    "            \n",
    "            rules += val_rules\n",
    "\n",
    "            #print(\"Created rules for\",str(val),len(val_rules))\n",
    "\n",
    "        # Minimize the dmvlp\n",
    "\n",
    "        model = DMVLP(features, targets, rules)\n",
    "        model.compile()\n",
    "        #model.summary()\n",
    "\n",
    "        if BRUTEFORCE:\n",
    "            begin = time.time()\n",
    "            solutions = bruteforce_counterfactuals(model, s, target, [val_out], [val_in])[val_in]\n",
    "            run_time = time.time() - begin\n",
    "            data.append([\"Bruteforce\", len(model.features), nb_values, nb_rules, s, val_out, val_in, solutions, len(solutions), run_time])\n",
    "\n",
    "        begin = time.time()\n",
    "        solutions = compute_counterfactuals(model, s, target, [val_out], [val_in])[val_in]\n",
    "        run_time = time.time() - begin\n",
    "        data.append([\"CELOS\", len(model.features), nb_values, nb_rules, s, val_out, val_in, solutions, len(solutions), run_time])\n",
    "        \n",
    "        #for i in solutions:\n",
    "        #    print(i)\n",
    "\n",
    "    print()\n",
    "    \n",
    "df = pandas.DataFrame(data, columns=[\"method\", \"features\", \"values\", \"rules\", \"feature_state\", \"val_out\", \"val_in\", \"solutions\", \"nb_solutions\", \"run_time\"])\n",
    "display(df)"
   ]
  },
  {
   "cell_type": "code",
   "execution_count": null,
   "id": "f0a2b92a",
   "metadata": {},
   "outputs": [],
   "source": [
    "df[df[\"nb_solutions\"]>0]\n",
    "\n",
    "df.to_csv(\"results_random_values.csv\")"
   ]
  },
  {
   "cell_type": "markdown",
   "id": "4d95702d",
   "metadata": {},
   "source": [
    "# Visualize performance"
   ]
  },
  {
   "cell_type": "code",
   "execution_count": null,
   "id": "e398f693",
   "metadata": {},
   "outputs": [],
   "source": [
    "BRUTE_FORCE_COLOR = mcolors.to_rgba(\"#C6110B\") #\"lightcoral\"\n",
    "GULA_COLOR = mcolors.to_rgba(\"#0B7FF3\") #\"skyblue\"\n",
    "WHIS_VALUE = 10000000"
   ]
  },
  {
   "cell_type": "code",
   "execution_count": null,
   "id": "12f8a3a5",
   "metadata": {},
   "outputs": [],
   "source": [
    "#df_brute_force = df_semantics[df_semantics[\"method\"] == \"brute_force\"]\n",
    "ax = sns.boxplot(x=\"values\", y=\"nb_solutions\", data=df,\n",
    "                #whiskerprops = dict(color=BRUTE_FORCE_COLOR, linewidth=2.0, alpha= 0.8),\n",
    "                #capprops = dict(color=BRUTE_FORCE_COLOR, linewidth=2.0, alpha= 0.8),\n",
    "                whis=WHIS_VALUE,\n",
    "                palette=\"Blues\",\n",
    "                log_scale=False)"
   ]
  },
  {
   "cell_type": "code",
   "execution_count": null,
   "id": "a0671d08",
   "metadata": {},
   "outputs": [],
   "source": [
    "#df_brute_force = df_semantics[df_semantics[\"method\"] == \"brute_force\"]\n",
    "ax = sns.boxplot(x=\"values\", y=\"run_time\", hue=\"method\", data=df,\n",
    "                #whiskerprops = dict(color=BRUTE_FORCE_COLOR, linewidth=2.0, alpha= 0.8),\n",
    "                #capprops = dict(color=BRUTE_FORCE_COLOR, linewidth=2.0, alpha= 0.8),\n",
    "                whis=WHIS_VALUE,\n",
    "                palette=\"Blues\",\n",
    "                log_scale=False)\n",
    "\n",
    "plt.savefig(\"random_values_run_times.pdf\", bbox_inches='tight')"
   ]
  },
  {
   "cell_type": "code",
   "execution_count": null,
   "id": "6dfc76fc",
   "metadata": {},
   "outputs": [],
   "source": [
    "#df_brute_force = df_semantics[df_semantics[\"method\"] == \"brute_force\"]\n",
    "ax = sns.boxplot(x=\"values\", y=\"run_time\", hue=\"method\", data=df,\n",
    "                #whiskerprops = dict(color=BRUTE_FORCE_COLOR, linewidth=2.0, alpha= 0.8),\n",
    "                #capprops = dict(color=BRUTE_FORCE_COLOR, linewidth=2.0, alpha= 0.8),\n",
    "                whis=WHIS_VALUE,\n",
    "                palette=\"Blues\",\n",
    "                log_scale=True)\n",
    "\n",
    "plt.savefig(\"random_values_run_times.pdf\", bbox_inches='tight')"
   ]
  },
  {
   "cell_type": "markdown",
   "id": "da72ce88",
   "metadata": {},
   "source": [
    "# DEBUG"
   ]
  }
 ],
 "metadata": {
  "kernelspec": {
   "display_name": "pylfit-dev",
   "language": "python",
   "name": "python3"
  },
  "language_info": {
   "codemirror_mode": {
    "name": "ipython",
    "version": 3
   },
   "file_extension": ".py",
   "mimetype": "text/x-python",
   "name": "python",
   "nbconvert_exporter": "python",
   "pygments_lexer": "ipython3",
   "version": "3.12.0"
  },
  "papermill": {
   "default_parameters": {},
   "duration": 42.992012,
   "end_time": "2022-05-23T14:17:16.537439",
   "environment_variables": {},
   "exception": null,
   "input_path": "__notebook__.ipynb",
   "output_path": "__notebook__.ipynb",
   "parameters": {},
   "start_time": "2022-05-23T14:16:33.545427",
   "version": "2.3.4"
  }
 },
 "nbformat": 4,
 "nbformat_minor": 5
}

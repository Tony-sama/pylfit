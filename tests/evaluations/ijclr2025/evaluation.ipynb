{
 "cells": [
  {
   "cell_type": "markdown",
   "id": "c41c569b",
   "metadata": {
    "papermill": {
     "duration": 0.060839,
     "end_time": "2022-05-23T14:16:44.896880",
     "exception": false,
     "start_time": "2022-05-23T14:16:44.836041",
     "status": "completed"
    },
    "tags": []
   },
   "source": [
    "# Settings"
   ]
  },
  {
   "cell_type": "code",
   "execution_count": null,
   "id": "4930ad21",
   "metadata": {
    "execution": {
     "iopub.execute_input": "2022-05-23T14:16:45.020412Z",
     "iopub.status.busy": "2022-05-23T14:16:45.019614Z",
     "iopub.status.idle": "2022-05-23T14:16:45.032336Z",
     "shell.execute_reply": "2022-05-23T14:16:45.031676Z"
    },
    "papermill": {
     "duration": 0.075956,
     "end_time": "2022-05-23T14:16:45.034615",
     "exception": false,
     "start_time": "2022-05-23T14:16:44.958659",
     "status": "completed"
    },
    "tags": []
   },
   "outputs": [],
   "source": [
    "NB_TESTS_PER_TARGET = 100\n",
    "MAX_VARIABLE_FOR_BRUTEFORCE = 15\n",
    "\n",
    "COMPUTE_COMPLEMENTARY = True\n",
    "DEBUG = False"
   ]
  },
  {
   "cell_type": "code",
   "execution_count": null,
   "id": "52f936cd",
   "metadata": {},
   "outputs": [],
   "source": [
    "from pylfit.postprocessing import compute_counterfactuals, bruteforce_counterfactuals\n",
    "from pylfit.preprocessing.boolean_network import dmvlp_from_boolean_network_file\n",
    "from pylfit.preprocessing import discrete_state_transitions_dataset_from_array\n",
    "\n",
    "import random\n",
    "import time\n",
    "import pandas\n",
    "import seaborn as sns\n",
    "from matplotlib import colors as mcolors\n",
    "\n",
    "import matplotlib.pyplot as plt"
   ]
  },
  {
   "cell_type": "markdown",
   "id": "52ca21c2",
   "metadata": {},
   "source": [
    "# Compute counterfactual with bruteforce and proposal"
   ]
  },
  {
   "cell_type": "code",
   "execution_count": null,
   "id": "a4c30436",
   "metadata": {},
   "outputs": [],
   "source": [
    "benchmarks = [\n",
    "    \"../../benchmarks/boolean_networks/pyboolnet/bio/faure_cellcycle.bnet\", \n",
    "    \"../../benchmarks/boolean_networks/pyboolnet/bio/dinwoodie_life.bnet\",\n",
    "    \"../../benchmarks/boolean_networks/pyboolnet/bio/irons_yeast.bnet\",\n",
    "    \"../../benchmarks/boolean_networks/pyboolnet/bio/tournier_apoptosis.bnet\",\n",
    "    \"../../benchmarks/boolean_networks/pyboolnet/bio/saadatpour_guardcell.bnet\",\n",
    "    \"../../benchmarks/boolean_networks/pyboolnet/bio/dahlhaus_neuroplastoma.bnet\",\n",
    "    #\"../../benchmarks/boolean_networks/boolenet/budding_yeast.net\",\n",
    "    \"../../benchmarks/boolean_networks/boolenet/arabidopsis.net\",\n",
    "    \"../../benchmarks/boolean_networks/boolenet/fission_yeast.net\",\n",
    "    \"../../benchmarks/boolean_networks/boolenet/thelper.net\",\n",
    "    \"../../benchmarks/boolean_networks/boolenet/tcr.net\"\n",
    "    ]\n",
    "\n",
    "data = []\n",
    "\n",
    "for bn_file_path in benchmarks:\n",
    "    print(\"Loading DMVLP from Boolean network file:\", bn_file_path)\n",
    "    model = dmvlp_from_boolean_network_file(bn_file_path, compute_complementary_rules=COMPUTE_COMPLEMENTARY)\n",
    "    #model.summary()\n",
    "    print(\"variables:\", len(model.features))\n",
    "\n",
    "    # Make the program complete by learning from its transitions\n",
    "    if not COMPUTE_COMPLEMENTARY:\n",
    "        print(\"All states transitions (synchronous): \")\n",
    "        feature_states = model.feature_states()\n",
    "        transitions = []\n",
    "        prediction = model.predict(feature_states, semantics=\"synchronous\", default=[(var,[\"0\"]) for var in model.features])\n",
    "        for s1 in prediction:\n",
    "            for s2 in prediction[s1]:\n",
    "                transitions.append( (s1, s2) )\n",
    "\n",
    "        print(len(transitions))\n",
    "\n",
    "        dataset = discrete_state_transitions_dataset_from_array(\n",
    "        data=transitions,\n",
    "        feature_names=[var for var,vals in model.features],\n",
    "        target_names=[var for var,vals in model.targets])\n",
    "\n",
    "        model.fit(dataset)\n",
    "        #model.summary()\n",
    "    \n",
    "    #model.summary()\n",
    "\n",
    "    for target_id in range(len(model.targets)):\n",
    "        \n",
    "        for test in range(NB_TESTS_PER_TARGET):\n",
    "            target_name = model.targets[target_id][0]\n",
    "            s = tuple([random.choice(vals) for var, vals in model.features])\n",
    "            target_value = [s2 for s2 in model.predict([s])[s]][0][target_id]\n",
    "            desired_value = \"0\"\n",
    "            if target_value == \"0\":\n",
    "                desired_value == \"1\"\n",
    "\n",
    "            #print(s, target_name, target_value, desired_value)\n",
    "\n",
    "            if DEBUG:\n",
    "                solutions = []\n",
    "                data.append([\"Naïve enumeration\", bn_file_path, len(model.features), s, target_id, target_value, desired_value, solutions, len(solutions), 2])\n",
    "                data.append([\"CELOS\", bn_file_path, len(model.features), s, target_id, target_value, desired_value, solutions, len(solutions), 1])\n",
    "\n",
    "            else:\n",
    "                if len(model._features) <= MAX_VARIABLE_FOR_BRUTEFORCE:\n",
    "                    begin = time.time()\n",
    "                    solutions = bruteforce_counterfactuals(model, s, target_name, [target_value], [desired_value])[desired_value]\n",
    "                    run_time = time.time() - begin\n",
    "                    data.append([\"Naïve enumeration\", bn_file_path, len(model.features), s, target_id, target_value, desired_value, solutions, len(solutions), run_time])\n",
    "\n",
    "                begin = time.time()\n",
    "                solutions = compute_counterfactuals(model, s, target_name, [target_value], [desired_value])[desired_value]\n",
    "                run_time = time.time() - begin\n",
    "                data.append([\"CELOS\", bn_file_path, len(model.features), s, target_id, target_value, desired_value, solutions, len(solutions), run_time])\n",
    "\n",
    "            #print(solutions)\n",
    "            #print(\"\\r\"+str(test+1)+\"/\"+str(NB_TESTS_PER_TARGET))\n",
    "        \n",
    "df = pandas.DataFrame(data, columns=[\"method\", \"file\", \"variables\", \"feature_state\", \"target_id\",  \"target_value\", \"desired_value\", \"solutions\", \"nb_solutions\", \"run_time\"])\n",
    "display(df)"
   ]
  },
  {
   "cell_type": "code",
   "execution_count": null,
   "id": "f0a2b92a",
   "metadata": {},
   "outputs": [],
   "source": [
    "df[df[\"nb_solutions\"]>0]"
   ]
  },
  {
   "cell_type": "markdown",
   "id": "4d95702d",
   "metadata": {},
   "source": [
    "# Visualize performance"
   ]
  },
  {
   "cell_type": "code",
   "execution_count": null,
   "id": "e398f693",
   "metadata": {},
   "outputs": [],
   "source": [
    "BRUTE_FORCE_COLOR = mcolors.to_rgba(\"#C6110B\") #\"lightcoral\"\n",
    "GULA_COLOR = mcolors.to_rgba(\"#0B7FF3\") #\"skyblue\"\n",
    "WHIS_VALUE = 10000000"
   ]
  },
  {
   "cell_type": "code",
   "execution_count": null,
   "id": "a0671d08",
   "metadata": {},
   "outputs": [],
   "source": [
    "#df_brute_force = df_semantics[df_semantics[\"method\"] == \"brute_force\"]\n",
    "ax = sns.boxplot(x=\"variables\", y=\"run_time\", hue=\"method\", data=df,\n",
    "                #whiskerprops = dict(color=BRUTE_FORCE_COLOR, linewidth=2.0, alpha= 0.8),\n",
    "                #capprops = dict(color=BRUTE_FORCE_COLOR, linewidth=2.0, alpha= 0.8),\n",
    "                whis=WHIS_VALUE,\n",
    "                palette=\"Blues\",\n",
    "                log_scale=False)"
   ]
  },
  {
   "cell_type": "code",
   "execution_count": null,
   "id": "fbd4e5e8",
   "metadata": {},
   "outputs": [],
   "source": [
    "df_tmp = df.copy()\n",
    "df_tmp[\"run_time\"] += 0.001\n",
    "ax = sns.boxplot(x=\"variables\", y=\"run_time\", hue=\"method\", data=df_tmp,\n",
    "                #whiskerprops = dict(color=BRUTE_FORCE_COLOR, linewidth=2.0, alpha= 0.8),\n",
    "                #capprops = dict(color=BRUTE_FORCE_COLOR, linewidth=2.0, alpha= 0.8),\n",
    "                whis=WHIS_VALUE,\n",
    "                palette=\"Blues\",\n",
    "                log_scale=True)\n",
    "\n",
    "plt.savefig(\"bn_benchmarks_run_times.pdf\", bbox_inches='tight')"
   ]
  }
 ],
 "metadata": {
  "kernelspec": {
   "display_name": "pylfit-dev",
   "language": "python",
   "name": "python3"
  },
  "language_info": {
   "codemirror_mode": {
    "name": "ipython",
    "version": 3
   },
   "file_extension": ".py",
   "mimetype": "text/x-python",
   "name": "python",
   "nbconvert_exporter": "python",
   "pygments_lexer": "ipython3",
   "version": "3.12.0"
  },
  "papermill": {
   "default_parameters": {},
   "duration": 42.992012,
   "end_time": "2022-05-23T14:17:16.537439",
   "environment_variables": {},
   "exception": null,
   "input_path": "__notebook__.ipynb",
   "output_path": "__notebook__.ipynb",
   "parameters": {},
   "start_time": "2022-05-23T14:16:33.545427",
   "version": "2.3.4"
  }
 },
 "nbformat": 4,
 "nbformat_minor": 5
}
